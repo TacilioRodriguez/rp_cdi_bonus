{
 "cells": [
  {
   "cell_type": "code",
   "execution_count": 0,
   "metadata": {
    "application/vnd.databricks.v1+cell": {
     "cellMetadata": {
      "byteLimit": 2048000,
      "rowLimit": 10000
     },
     "inputWidgets": {},
     "nuid": "e212328f-56d8-4850-bd03-0d1bb7bb7be1",
     "showTitle": false,
     "tableResultSettingsMap": {},
     "title": ""
    }
   },
   "outputs": [],
   "source": [
    "# importando as bibliotecas necessárias\n",
    "from pyspark.sql import functions as f\n",
    "from pyspark.sql.window import Window\n",
    "import datetime"
   ]
  },
  {
   "cell_type": "code",
   "execution_count": 0,
   "metadata": {
    "application/vnd.databricks.v1+cell": {
     "cellMetadata": {
      "byteLimit": 2048000,
      "rowLimit": 10000
     },
     "inputWidgets": {},
     "nuid": "620fbce8-cd1f-49ee-aee3-57426a05d02f",
     "showTitle": false,
     "tableResultSettingsMap": {},
     "title": ""
    }
   },
   "outputs": [],
   "source": [
    "bronze_transactions_path = \"/Volumes/rp/bronze/transactions\"\n",
    "bronze_calendar_table = \"rp.bronze.dim_calendario\"\n",
    "silver_eligible_balances_table = \"rp.silver.daily_eligible_balances\""
   ]
  },
  {
   "cell_type": "code",
   "execution_count": 0,
   "metadata": {
    "application/vnd.databricks.v1+cell": {
     "cellMetadata": {
      "byteLimit": 2048000,
      "rowLimit": 10000
     },
     "inputWidgets": {},
     "nuid": "7e231b63-84ae-4c2f-ae2a-1c254916b560",
     "showTitle": false,
     "tableResultSettingsMap": {},
     "title": ""
    }
   },
   "outputs": [],
   "source": [
    "# Parametros do Job\n",
    "dbutils.widgets.text(\"processing_date\", \"2025-08-16\")\n",
    "processing_date_str = dbutils.widgets.get(\"processing_date\")\n",
    "# processing_date_str = \"2025-08-16\" # usando a data atual como exemplo\n",
    "processing_date = datetime.datetime.strptime(processing_date_str, \"%Y-%m-%d\").date()"
   ]
  },
  {
   "cell_type": "code",
   "execution_count": 0,
   "metadata": {
    "application/vnd.databricks.v1+cell": {
     "cellMetadata": {
      "byteLimit": 2048000,
      "rowLimit": 10000
     },
     "inputWidgets": {},
     "nuid": "df83a6a2-f5ae-4b06-87fd-e47e36bb4651",
     "showTitle": false,
     "tableResultSettingsMap": {},
     "title": ""
    }
   },
   "outputs": [],
   "source": [
    "# limite mínimo de saldo para elegibilidade\n",
    "balance_threshold = 100.0"
   ]
  },
  {
   "cell_type": "code",
   "execution_count": 0,
   "metadata": {
    "application/vnd.databricks.v1+cell": {
     "cellMetadata": {
      "byteLimit": 2048000,
      "rowLimit": 10000
     },
     "inputWidgets": {},
     "nuid": "45157a21-1042-41c5-ba69-2213cbd7de9d",
     "showTitle": false,
     "tableResultSettingsMap": {},
     "title": ""
    }
   },
   "outputs": [],
   "source": [
    "# Simulação da tabela de taxas de juros\n",
    "# esta tabela seria mantida e atualizada por uma equipe financeira.\n",
    "interest_rates_data = [\n",
    "    (datetime.date(2025, 8, 14), 0.1150), # quinta-feira\n",
    "    (datetime.date(2025, 8, 15), 0.1155)  # sexta-feira\n",
    "]\n",
    "interest_rates_df = spark.createDataFrame(interest_rates_data, [\"rate_date\", \"annual_rate\"]) \\\n",
    "    .withColumn(\"daily_rate\", f.pow(f.lit(1) + f.col(\"annual_rate\"), f.lit(1/252)) - 1)\n",
    "\n",
    "print(f\"pipeline configurado para a data de processamento: {processing_date_str}\")\n",
    "print(\"fontes e destinos:\")\n",
    "print(f\"  bronze (volume): {bronze_transactions_path}\")\n",
    "print(f\"  bronze (tabela): {bronze_calendar_table}\")\n",
    "print(f\"  silver (tabela): {silver_eligible_balances_table}\")"
   ]
  },
  {
   "cell_type": "code",
   "execution_count": 0,
   "metadata": {
    "application/vnd.databricks.v1+cell": {
     "cellMetadata": {
      "byteLimit": 2048000,
      "rowLimit": 10000
     },
     "inputWidgets": {},
     "nuid": "58e9085c-c3db-448d-9a92-75f1e354f8a6",
     "showTitle": false,
     "tableResultSettingsMap": {},
     "title": ""
    }
   },
   "outputs": [],
   "source": [
    "# Lendo tabela Bronze\n",
    "wallet_cdc_df = spark.read.format(\"parquet\") \\\n",
    "    .option('header', 'true') \\\n",
    "    .option('inferSchema', 'true') \\\n",
    "    .load(bronze_transactions_path) \\\n",
    "    .withColumn(\"timestamp\", f.to_timestamp(f.col(\"event_time\")))"
   ]
  },
  {
   "cell_type": "code",
   "execution_count": 0,
   "metadata": {
    "application/vnd.databricks.v1+cell": {
     "cellMetadata": {
      "byteLimit": 2048000,
      "rowLimit": 10000
     },
     "inputWidgets": {},
     "nuid": "feecc98c-cfa2-4125-9378-9d51d1e9bc27",
     "showTitle": false,
     "tableResultSettingsMap": {},
     "title": ""
    }
   },
   "outputs": [],
   "source": [
    "# lendo a tabela de calendário considerando informações da FEBRABAN\n",
    "calendar_df = spark.table(bronze_calendar_table) \\\n",
    "    .withColumn(\"date\", f.to_date(f.col(\"data\")))"
   ]
  },
  {
   "cell_type": "code",
   "execution_count": 0,
   "metadata": {
    "application/vnd.databricks.v1+cell": {
     "cellMetadata": {
      "byteLimit": 2048000,
      "rowLimit": 10000
     },
     "inputWidgets": {},
     "nuid": "b2452326-f8a8-4d70-a99d-c2a20cc4dd59",
     "showTitle": false,
     "tableResultSettingsMap": {},
     "title": ""
    }
   },
   "outputs": [],
   "source": [
    "# determinar o último dia útil antes da data de processamento.\n",
    "# A coluna 'flag_dia_util_bancario' para identificar os dias úteis.\n",
    "last_business_day_row = calendar_df \\\n",
    "    .filter((f.col(\"data\") < processing_date) & (f.col(\"flag_dia_util_bancario\") == \"S\")) \\\n",
    "    .orderBy(f.col(\"data\").desc()) \\\n",
    "    .first()\n",
    "\n",
    "if not last_business_day_row:\n",
    "    dbutils.notebook.exit(f\"nenhum dia útil encontrado antes de {processing_date_str}. verifique a tabela de calendário.\")\n",
    "\n",
    "last_business_day = last_business_day_row.data\n",
    "print(f\"último dia útil considerado para o cálculo: {last_business_day}\")"
   ]
  },
  {
   "cell_type": "code",
   "execution_count": 0,
   "metadata": {
    "application/vnd.databricks.v1+cell": {
     "cellMetadata": {
      "byteLimit": 2048000,
      "rowLimit": 10000
     },
     "inputWidgets": {},
     "nuid": "86e56bb2-ac9d-43b9-a778-3f6f1327c28b",
     "showTitle": false,
     "tableResultSettingsMap": {},
     "title": ""
    }
   },
   "outputs": [],
   "source": [
    "# Calcular o saldo de abertura no início do último dia útil.\n",
    "opening_balance_df = (\n",
    "    wallet_cdc_df\n",
    "    .filter(f.col(\"timestamp\") < f.to_timestamp(f.lit(str(last_business_day))))\n",
    "    .groupBy(\"user_id\")\n",
    "    .agg(f.sum(\"amount\").alias(\"balance_on_last_biz_day\"))\n",
    ")"
   ]
  },
  {
   "cell_type": "code",
   "execution_count": 0,
   "metadata": {
    "application/vnd.databricks.v1+cell": {
     "cellMetadata": {
      "byteLimit": 2048000,
      "rowLimit": 10000
     },
     "inputWidgets": {},
     "nuid": "109fcef3-83fd-4b08-8598-d7276b62d864",
     "showTitle": false,
     "tableResultSettingsMap": {},
     "title": ""
    }
   },
   "outputs": [],
   "source": [
    "# Identificando usuários com movimentação desde o último dia útil.\n",
    "unstable_users_df = (\n",
    "    wallet_cdc_df\n",
    "    .filter(\n",
    "        (f.col(\"timestamp\") >= f.to_timestamp(f.lit(str(last_business_day)))) &\n",
    "        (f.col(\"timestamp\") < f.to_timestamp(f.lit(processing_date_str)))\n",
    "    )\n",
    "    .select(\"user_id\")\n",
    "    .distinct()\n",
    ")"
   ]
  },
  {
   "cell_type": "code",
   "execution_count": 0,
   "metadata": {
    "application/vnd.databricks.v1+cell": {
     "cellMetadata": {
      "byteLimit": 2048000,
      "rowLimit": 10000
     },
     "inputWidgets": {},
     "nuid": "a89afbd1-3501-400e-9e74-d650df6d3a00",
     "showTitle": false,
     "tableResultSettingsMap": {
      "0": {
       "dataGridStateBlob": "{\"version\":1,\"tableState\":{\"columnPinning\":{\"left\":[\"#row_number#\"],\"right\":[]},\"columnSizing\":{},\"columnVisibility\":{}},\"settings\":{\"columns\":{}},\"syncTimestamp\":1755371732602}",
       "filterBlob": null,
       "queryPlanFiltersBlob": null,
       "tableResultIndex": 0
      }
     },
     "title": ""
    }
   },
   "outputs": [],
   "source": [
    "# Filtrando somnente os saldos estáveis e que atendem ao critério de valor mínimo de 100 reais\n",
    "eligible_balances_df = opening_balance_df \\\n",
    "    .join(unstable_users_df, on=\"user_id\", how=\"left_anti\") \\\n",
    "    .filter(f.col(\"balance_on_last_biz_day\") > balance_threshold) \\\n",
    "    .withColumn(\"processing_date\", f.lit(processing_date).cast(\"date\")) \\\n",
    "    .withColumn(\"last_business_day\", f.lit(last_business_day).cast(\"date\"))\n",
    "\n",
    "print(\"saldos elegíveis para o dia (a serem salvos na camada silver):\")\n",
    "eligible_balances_df.display()"
   ]
  },
  {
   "cell_type": "code",
   "execution_count": 0,
   "metadata": {
    "application/vnd.databricks.v1+cell": {
     "cellMetadata": {
      "byteLimit": 2048000,
      "rowLimit": 10000
     },
     "inputWidgets": {},
     "nuid": "faf71d2f-0afc-4ad2-80ee-60b3d06c9d53",
     "showTitle": false,
     "tableResultSettingsMap": {},
     "title": ""
    }
   },
   "outputs": [],
   "source": [
    "# Salvando a tabela na camada silver\n",
    "(\n",
    "    eligible_balances_df.write\n",
    "    .format(\"delta\")\n",
    "    .mode(\"overwrite\")\n",
    "    .option(\"replaceWhere\", f\"processing_date = '{processing_date_str}'\")\n",
    "    .partitionBy(\"processing_date\")\n",
    "    .saveAsTable(silver_eligible_balances_table)\n",
    ")\n",
    "\n",
    "print(f\"tabela de saldos elegíveis salva com sucesso em '{silver_eligible_balances_table}' para a data {processing_date_str}.\")"
   ]
  }
 ],
 "metadata": {
  "application/vnd.databricks.v1+notebook": {
   "computePreferences": {
    "hardware": {
     "accelerator": null,
     "gpuPoolId": null,
     "memory": null
    }
   },
   "dashboards": [],
   "environmentMetadata": {
    "base_environment": "",
    "environment_version": "2"
   },
   "inputWidgetPreferences": null,
   "language": "python",
   "notebookMetadata": {
    "pythonIndentUnit": 4
   },
   "notebookName": "ntb_ingest_silver",
   "widgets": {
    "processing_date": {
     "currentValue": "2025-08-16",
     "nuid": "10e907cb-7e90-48d7-8faa-899d56ae9a33",
     "typedWidgetInfo": {
      "autoCreated": false,
      "defaultValue": "2025-08-16",
      "label": null,
      "name": "processing_date",
      "options": {
       "widgetDisplayType": "Text",
       "validationRegex": null
      },
      "parameterDataType": "String"
     },
     "widgetInfo": {
      "widgetType": "text",
      "defaultValue": "2025-08-16",
      "label": null,
      "name": "processing_date",
      "options": {
       "widgetType": "text",
       "autoCreated": null,
       "validationRegex": null
      }
     }
    }
   }
  },
  "language_info": {
   "name": "python"
  }
 },
 "nbformat": 4,
 "nbformat_minor": 0
}
