{
 "cells": [
  {
   "cell_type": "code",
   "execution_count": 0,
   "metadata": {
    "application/vnd.databricks.v1+cell": {
     "cellMetadata": {
      "byteLimit": 2048000,
      "rowLimit": 10000
     },
     "collapsed": true,
     "inputWidgets": {},
     "nuid": "ed58914c-9b82-43a8-8b14-541e863b2bd1",
     "showTitle": false,
     "tableResultSettingsMap": {},
     "title": ""
    }
   },
   "outputs": [],
   "source": [
    "%pip install holidays"
   ]
  },
  {
   "cell_type": "code",
   "execution_count": 0,
   "metadata": {
    "application/vnd.databricks.v1+cell": {
     "cellMetadata": {
      "byteLimit": 2048000,
      "rowLimit": 10000
     },
     "inputWidgets": {},
     "nuid": "adb7b1ac-c1ea-4c72-b781-060b54467d37",
     "showTitle": false,
     "tableResultSettingsMap": {},
     "title": ""
    }
   },
   "outputs": [],
   "source": [
    "# Importando as funções necessárias\n",
    "from pyspark.sql import functions as F\n",
    "from pyspark.sql.types import StringType\n",
    "import holidays\n",
    "import datetime"
   ]
  },
  {
   "cell_type": "code",
   "execution_count": 0,
   "metadata": {
    "application/vnd.databricks.v1+cell": {
     "cellMetadata": {
      "byteLimit": 2048000,
      "rowLimit": 10000
     },
     "inputWidgets": {},
     "nuid": "f2515f75-d61e-43b2-81b0-b22691b48336",
     "showTitle": false,
     "tableResultSettingsMap": {},
     "title": ""
    }
   },
   "outputs": [],
   "source": [
    "\n",
    "dbutils.widgets.text(\"data_inicio\", \"2020-01-01\")\n",
    "dbutils.widgets.text(\"data_fim\", \"2030-12-31\")\n",
    "\n",
    "data_inicio = dbutils.widgets.get(\"data_inicio\")\n",
    "data_fim = dbutils.widgets.get(\"data_fim\")\n",
    "\n",
    "print(f\"Gerando calendário de {data_inicio} até {data_fim}\")\n",
    "print(f\"Usando a biblioteca 'holidays' para feriados FEBRABAN.\")"
   ]
  },
  {
   "cell_type": "code",
   "execution_count": 0,
   "metadata": {
    "application/vnd.databricks.v1+cell": {
     "cellMetadata": {
      "byteLimit": 2048000,
      "rowLimit": 10000
     },
     "inputWidgets": {},
     "nuid": "6d23ce1c-201f-40a1-9b99-44c20936f621",
     "showTitle": false,
     "tableResultSettingsMap": {},
     "title": ""
    }
   },
   "outputs": [],
   "source": [
    "df_base_dates = spark.sql(f\"SELECT explode(sequence(to_date('{data_inicio}'), to_date('{data_fim}'), interval 1 day)) as data\")"
   ]
  },
  {
   "cell_type": "code",
   "execution_count": 0,
   "metadata": {
    "application/vnd.databricks.v1+cell": {
     "cellMetadata": {
      "byteLimit": 2048000,
      "rowLimit": 10000
     },
     "inputWidgets": {},
     "nuid": "4c56a228-ef7f-454b-8e2e-cac2ba208162",
     "showTitle": false,
     "tableResultSettingsMap": {},
     "title": ""
    }
   },
   "outputs": [],
   "source": [
    "#Definição da UDF para Feriados FEBRABAN\n",
    "br_bancario_holidays = holidays.country_holidays('BR')"
   ]
  },
  {
   "cell_type": "code",
   "execution_count": 0,
   "metadata": {
    "application/vnd.databricks.v1+cell": {
     "cellMetadata": {
      "byteLimit": 2048000,
      "rowLimit": 10000
     },
     "inputWidgets": {},
     "nuid": "0b07a474-ab24-4019-be24-c84be240b562",
     "showTitle": false,
     "tableResultSettingsMap": {},
     "title": ""
    }
   },
   "outputs": [],
   "source": [
    "\n",
    "def obter_feriado(data_input):\n",
    "  # O método .get() da biblioteca retorna o nome do feriado ou None se não for um.\n",
    "  return br_bancario_holidays.get(data_input)"
   ]
  },
  {
   "cell_type": "code",
   "execution_count": 0,
   "metadata": {
    "application/vnd.databricks.v1+cell": {
     "cellMetadata": {
      "byteLimit": 2048000,
      "rowLimit": 10000
     },
     "inputWidgets": {},
     "nuid": "9c6a4eac-c92e-459b-bb1e-8eaa91325cbd",
     "showTitle": false,
     "tableResultSettingsMap": {},
     "title": ""
    }
   },
   "outputs": [],
   "source": [
    "# Registramos a função como uma UDF do Spark, especificando o tipo de retorno.\n",
    "# Isso permite que a gente a chame como se fosse uma função nativa do Spark.\n",
    "obter_feriado_udf = F.udf(obter_feriado, StringType())"
   ]
  },
  {
   "cell_type": "code",
   "execution_count": 0,
   "metadata": {
    "application/vnd.databricks.v1+cell": {
     "cellMetadata": {
      "byteLimit": 2048000,
      "rowLimit": 10000
     },
     "inputWidgets": {},
     "nuid": "5956518b-6611-4199-b362-28c0a7a58790",
     "showTitle": false,
     "tableResultSettingsMap": {},
     "title": ""
    }
   },
   "outputs": [],
   "source": [
    "# Enriquecimento da Tabela com Atributos e Feriados\n",
    "\n",
    "df_calendario = df_base_dates \\\n",
    "    .withColumn(\"ano\", F.year(F.col(\"data\"))) \\\n",
    "    .withColumn(\"mes\", F.month(F.col(\"data\"))) \\\n",
    "    .withColumn(\"dia\", F.dayofmonth(F.col(\"data\"))) \\\n",
    "    .withColumn(\"dia_da_semana_num\", F.dayofweek(F.col(\"data\"))) \\\n",
    "    .withColumn(\"dia_do_ano\", F.dayofyear(F.col(\"data\"))) \\\n",
    "    .withColumn(\"semana_do_ano\", F.weekofyear(F.col(\"data\"))) \\\n",
    "    .withColumn(\"trimestre\", F.quarter(F.col(\"data\"))) \\\n",
    "    .withColumn(\"nome_mes_extenso\", F.date_format(F.col(\"data\"), \"MMMM\")) \\\n",
    "    .withColumn(\"nome_mes_curto\", F.date_format(F.col(\"data\"), \"MMM\")) \\\n",
    "    .withColumn(\"nome_dia_semana_extenso\", F.date_format(F.col(\"data\"), \"EEEE\")) \\\n",
    "    .withColumn(\"nome_dia_semana_curto\", F.date_format(F.col(\"data\"), \"E\")) \\\n",
    "    .withColumn(\"ano_mes_id\", F.date_format(F.col(\"data\"), \"yyyyMM\").cast('int'))\n"
   ]
  },
  {
   "cell_type": "code",
   "execution_count": 0,
   "metadata": {
    "application/vnd.databricks.v1+cell": {
     "cellMetadata": {
      "byteLimit": 2048000,
      "rowLimit": 10000
     },
     "inputWidgets": {},
     "nuid": "1d759628-940f-45e3-9284-d8a5ea31412b",
     "showTitle": false,
     "tableResultSettingsMap": {},
     "title": ""
    }
   },
   "outputs": [],
   "source": [
    "# Adicionando flags de Fim de Semana\n",
    "df_calendario = df_calendario.withColumn(\n",
    "    \"flag_fim_de_semana\",\n",
    "    F.when(F.col(\"dia_da_semana_num\").isin([1, 7]), \"S\").otherwise(\"N\")\n",
    ")"
   ]
  },
  {
   "cell_type": "code",
   "execution_count": 0,
   "metadata": {
    "application/vnd.databricks.v1+cell": {
     "cellMetadata": {
      "byteLimit": 2048000,
      "rowLimit": 10000
     },
     "inputWidgets": {},
     "nuid": "7dea2a02-ea7e-4a58-ba9b-53dfd1e8d594",
     "showTitle": false,
     "tableResultSettingsMap": {},
     "title": ""
    }
   },
   "outputs": [],
   "source": [
    "# Aplicamos a UDF na coluna de data para obter a descrição do feriado.\n",
    "df_com_feriados = df_calendario.withColumn(\"descricao_feriado\", obter_feriado_udf(F.col(\"data\")))\n"
   ]
  },
  {
   "cell_type": "code",
   "execution_count": 0,
   "metadata": {
    "application/vnd.databricks.v1+cell": {
     "cellMetadata": {
      "byteLimit": 2048000,
      "rowLimit": 10000
     },
     "inputWidgets": {},
     "nuid": "d17a5af2-3ed9-4f6b-886d-5f2d684a9831",
     "showTitle": false,
     "tableResultSettingsMap": {},
     "title": ""
    }
   },
   "outputs": [],
   "source": [
    "# Criando as Flags Finais e Organizando a Tabela\n",
    "df_final = df_com_feriados.withColumn(\n",
    "    \"flag_feriado_bancario\",\n",
    "    F.when(F.col(\"descricao_feriado\").isNotNull(), \"S\").otherwise(\"N\")\n",
    ")\n",
    "\n",
    "df_final = df_final.withColumn(\n",
    "    \"flag_dia_util_bancario\",\n",
    "    F.when((F.col(\"flag_fim_de_semana\") == \"N\") & (F.col(\"flag_feriado_bancario\") == \"N\"), \"S\").otherwise(\"N\")\n",
    ")"
   ]
  },
  {
   "cell_type": "code",
   "execution_count": 0,
   "metadata": {
    "application/vnd.databricks.v1+cell": {
     "cellMetadata": {
      "byteLimit": 2048000,
      "rowLimit": 10000
     },
     "inputWidgets": {},
     "nuid": "e9790e0d-3664-4cd4-811b-d1cbc0d3a3d6",
     "showTitle": false,
     "tableResultSettingsMap": {},
     "title": ""
    }
   },
   "outputs": [],
   "source": [
    "# Selecionando e ordenando as colunas para a tabela final\n",
    "colunas_finais = [\n",
    "    \"data\", \"ano\", \"mes\", \"dia\", \"trimestre\", \"ano_mes_id\",\n",
    "    \"nome_mes_extenso\", \"nome_mes_curto\", \"dia_da_semana_num\",\n",
    "    \"nome_dia_semana_extenso\", \"nome_dia_semana_curto\", \"dia_do_ano\",\n",
    "    \"semana_do_ano\", \"flag_fim_de_semana\", \"flag_feriado_bancario\",\n",
    "    \"descricao_feriado\", \"flag_dia_util_bancario\"\n",
    "]\n",
    "\n",
    "df_resultado = df_final.select(colunas_finais).orderBy(\"data\")"
   ]
  },
  {
   "cell_type": "code",
   "execution_count": 0,
   "metadata": {
    "application/vnd.databricks.v1+cell": {
     "cellMetadata": {
      "byteLimit": 2048000,
      "rowLimit": 10000
     },
     "inputWidgets": {},
     "nuid": "30f7fb0a-d02b-485b-9d24-645138e23ad9",
     "showTitle": false,
     "tableResultSettingsMap": {},
     "title": ""
    }
   },
   "outputs": [],
   "source": [
    "# Salvando a Tabela no Formato Delta\n",
    "tabela = \"rp.bronze.dim_calendario\"\n",
    "df_resultado.write \\\n",
    "    .format(\"delta\") \\\n",
    "    .mode(\"overwrite\") \\\n",
    "    .option(\"overwriteSchema\", \"true\") \\\n",
    "    .saveAsTable(tabela)\n",
    "\n",
    "print(\"Tabela de calendário criada com sucesso!\")"
   ]
  }
 ],
 "metadata": {
  "application/vnd.databricks.v1+notebook": {
   "computePreferences": {
    "hardware": {
     "accelerator": null,
     "gpuPoolId": null,
     "memory": null
    }
   },
   "dashboards": [],
   "environmentMetadata": {
    "base_environment": "",
    "environment_version": "2"
   },
   "inputWidgetPreferences": null,
   "language": "python",
   "notebookMetadata": {
    "pythonIndentUnit": 4,
    "widgetLayout": [
     {
      "breakBefore": false,
      "name": "data_inicio",
      "width": 192
     },
     {
      "breakBefore": false,
      "name": "data_fim",
      "width": 192
     }
    ]
   },
   "notebookName": "create_calendar",
   "widgets": {
    "data_fim": {
     "currentValue": "2030-12-31",
     "nuid": "efa5036a-f05c-44b7-9445-69cf903788f9",
     "typedWidgetInfo": {
      "autoCreated": false,
      "defaultValue": "2030-12-31",
      "label": null,
      "name": "data_fim",
      "options": {
       "widgetDisplayType": "Text",
       "validationRegex": null
      },
      "parameterDataType": "String"
     },
     "widgetInfo": {
      "widgetType": "text",
      "defaultValue": "2030-12-31",
      "label": null,
      "name": "data_fim",
      "options": {
       "widgetType": "text",
       "autoCreated": null,
       "validationRegex": null
      }
     }
    },
    "data_inicio": {
     "currentValue": "2020-01-01",
     "nuid": "7b3c83c8-88c7-488a-b733-c4d95d2402dd",
     "typedWidgetInfo": {
      "autoCreated": false,
      "defaultValue": "2020-01-01",
      "label": null,
      "name": "data_inicio",
      "options": {
       "widgetDisplayType": "Text",
       "validationRegex": null
      },
      "parameterDataType": "String"
     },
     "widgetInfo": {
      "widgetType": "text",
      "defaultValue": "2020-01-01",
      "label": null,
      "name": "data_inicio",
      "options": {
       "widgetType": "text",
       "autoCreated": null,
       "validationRegex": null
      }
     }
    }
   }
  },
  "language_info": {
   "name": "python"
  }
 },
 "nbformat": 4,
 "nbformat_minor": 0
}
