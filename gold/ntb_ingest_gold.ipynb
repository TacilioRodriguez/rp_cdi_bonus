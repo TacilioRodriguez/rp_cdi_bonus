{
 "cells": [
  {
   "cell_type": "code",
   "execution_count": 0,
   "metadata": {
    "application/vnd.databricks.v1+cell": {
     "cellMetadata": {
      "byteLimit": 2048000,
      "rowLimit": 10000
     },
     "inputWidgets": {},
     "nuid": "cc9ac97e-6842-44b2-ad32-ebc21030f9ca",
     "showTitle": false,
     "tableResultSettingsMap": {},
     "title": ""
    }
   },
   "outputs": [],
   "source": [
    "# importando as bibliotecas necessárias\n",
    "from pyspark.sql import functions as f\n",
    "from pyspark.sql.window import Window\n",
    "import datetime"
   ]
  },
  {
   "cell_type": "code",
   "execution_count": 0,
   "metadata": {
    "application/vnd.databricks.v1+cell": {
     "cellMetadata": {
      "byteLimit": 2048000,
      "rowLimit": 10000
     },
     "inputWidgets": {},
     "nuid": "574892a8-4b99-4792-8fe7-0938d2affef9",
     "showTitle": false,
     "tableResultSettingsMap": {},
     "title": ""
    }
   },
   "outputs": [],
   "source": [
    "dbutils.widgets.text(\"processing_date\", \"\")\n",
    "processing_date_str = dbutils.widgets.get(\"processing_date\")\n",
    "# processing_date_str = \"2025-08-16\" # usando a data atual como exemplo\n",
    "processing_date = datetime.datetime.strptime(processing_date_str, \"%Y-%m-%d\").date()\n",
    "print(f\"Processando o dia: {processing_date}\")"
   ]
  },
  {
   "cell_type": "code",
   "execution_count": 0,
   "metadata": {
    "application/vnd.databricks.v1+cell": {
     "cellMetadata": {
      "byteLimit": 2048000,
      "rowLimit": 10000
     },
     "inputWidgets": {},
     "nuid": "a78507ef-cd4f-40a0-8aa9-678f6b9c9df4",
     "showTitle": false,
     "tableResultSettingsMap": {},
     "title": ""
    }
   },
   "outputs": [],
   "source": [
    "gold_payouts_table = \"rp.gold.cdi_daily_payouts\""
   ]
  },
  {
   "cell_type": "code",
   "execution_count": 0,
   "metadata": {
    "application/vnd.databricks.v1+cell": {
     "cellMetadata": {
      "byteLimit": 2048000,
      "rowLimit": 10000
     },
     "inputWidgets": {},
     "nuid": "450c103e-0787-49b4-b30b-04a89c300db9",
     "showTitle": false,
     "tableResultSettingsMap": {},
     "title": ""
    }
   },
   "outputs": [],
   "source": [
    "# Lendo a tabela da camada silver com saldos elegíveis\n",
    "silver_balances_df = spark.table('rp.silver.daily_eligible_balances').filter(f.col(\"processing_date\") == processing_date)\n",
    "# Lendo a tabela de calendário.\n",
    "calendar_df = spark.table('rp.bronze.dim_calendario') \\\n",
    "    .withColumn(\"date\", f.to_date(f.col(\"data\")))"
   ]
  },
  {
   "cell_type": "code",
   "execution_count": 0,
   "metadata": {
    "application/vnd.databricks.v1+cell": {
     "cellMetadata": {
      "byteLimit": 2048000,
      "rowLimit": 10000
     },
     "inputWidgets": {},
     "nuid": "05b19e5c-c48c-44e4-b30c-e548906cbf10",
     "showTitle": false,
     "tableResultSettingsMap": {},
     "title": ""
    }
   },
   "outputs": [],
   "source": [
    "# Calculando o número de dias corridos para creditar os juros.\n",
    "days_to_accrue_df = silver_balances_df \\\n",
    "    .withColumn(\"days_to_accrue\", f.datediff(f.col(\"processing_date\"), f.col(\"last_business_day\")))"
   ]
  },
  {
   "cell_type": "code",
   "execution_count": 0,
   "metadata": {
    "application/vnd.databricks.v1+cell": {
     "cellMetadata": {
      "byteLimit": 2048000,
      "rowLimit": 10000
     },
     "inputWidgets": {},
     "nuid": "30a0a550-b626-4cfd-8c48-6c7567089b06",
     "showTitle": false,
     "tableResultSettingsMap": {},
     "title": ""
    }
   },
   "outputs": [],
   "source": [
    "# Simulando tabela de taxas de juros \n",
    "# esta tabela seria mantida e atualizada por uma equipe financeira.\n",
    "interest_rates_data = [\n",
    "    (datetime.date(2025, 8, 14), 0.1150), # quinta-feira\n",
    "    (datetime.date(2025, 8, 15), 0.1155)  # sexta-feira\n",
    "]\n",
    "# Criando dataframe com a taxa de juros\n",
    "interest_rates_df = spark.createDataFrame(interest_rates_data, [\"rate_date\", \"annual_rate\"]) \\\n",
    "    .withColumn(\"daily_rate\", f.pow(f.lit(1) + f.col(\"annual_rate\"), f.lit(1/252)) - 1)"
   ]
  },
  {
   "cell_type": "code",
   "execution_count": 0,
   "metadata": {
    "application/vnd.databricks.v1+cell": {
     "cellMetadata": {
      "byteLimit": 2048000,
      "rowLimit": 10000
     },
     "inputWidgets": {},
     "nuid": "31114004-cb6b-44c9-a82c-07a8ed1b3ef5",
     "showTitle": false,
     "tableResultSettingsMap": {},
     "title": ""
    }
   },
   "outputs": [],
   "source": [
    "# Capturando o último dia útil antes da data de processamento.\n",
    "# usamos a coluna 'flag_dia_util_bancario' para identificar os dias úteis.\n",
    "last_business_day_row = calendar_df \\\n",
    "    .filter((f.col(\"data\") < processing_date) & (f.col(\"flag_dia_util_bancario\") == \"S\")) \\\n",
    "    .orderBy(f.col(\"data\").desc()) \\\n",
    "    .first()\n",
    "\n",
    "if not last_business_day_row:\n",
    "    dbutils.notebook.exit(f\"nenhum dia útil encontrado antes de {processing_date_str}. verifique a tabela de calendário.\")\n",
    "\n",
    "last_business_day = last_business_day_row.data\n",
    "print(f\"último dia útil considerado para o cálculo: {last_business_day}\")"
   ]
  },
  {
   "cell_type": "code",
   "execution_count": 0,
   "metadata": {
    "application/vnd.databricks.v1+cell": {
     "cellMetadata": {
      "byteLimit": 2048000,
      "rowLimit": 10000
     },
     "inputWidgets": {},
     "nuid": "8cf81032-c113-41b9-91d0-1162fcf0024b",
     "showTitle": false,
     "tableResultSettingsMap": {},
     "title": ""
    }
   },
   "outputs": [],
   "source": [
    "# Obtendo a taxa de juros referente ao último dia útil.\n",
    "interest_rate_for_day = interest_rates_df \\\n",
    "    .filter(f.col(\"rate_date\") == last_business_day) \\\n",
    "    .select(\"daily_rate\") \\\n",
    "    .first()\n",
    "\n",
    "if not interest_rate_for_day:\n",
    "    dbutils.notebook.exit(f\"taxa de juros não encontrada para o último dia útil: {last_business_day}\")\n",
    "\n",
    "daily_rate = interest_rate_for_day.daily_rate"
   ]
  },
  {
   "cell_type": "code",
   "execution_count": 0,
   "metadata": {
    "application/vnd.databricks.v1+cell": {
     "cellMetadata": {
      "byteLimit": 2048000,
      "rowLimit": 10000
     },
     "inputWidgets": {},
     "nuid": "7ae779be-5ec3-4cf7-bede-245c10869624",
     "showTitle": false,
     "tableResultSettingsMap": {},
     "title": ""
    }
   },
   "outputs": [],
   "source": [
    "# calculando o pagamento final, aplicando a taxa diária e o número de dias.\n",
    "gold_payout_df = days_to_accrue_df.withColumn(\n",
    "    \"interest_payout\",\n",
    "    f.round(\n",
    "        f.col(\"balance_on_last_biz_day\") * f.lit(daily_rate) * f.col(\"days_to_accrue\"),\n",
    "        4\n",
    "    )\n",
    ")"
   ]
  },
  {
   "cell_type": "code",
   "execution_count": 0,
   "metadata": {
    "application/vnd.databricks.v1+cell": {
     "cellMetadata": {
      "byteLimit": 2048000,
      "rowLimit": 10000
     },
     "inputWidgets": {},
     "nuid": "9b9ef150-942a-42a6-9f00-c89875182e2c",
     "showTitle": false,
     "tableResultSettingsMap": {},
     "title": ""
    }
   },
   "outputs": [],
   "source": [
    "# Formatando a tabela final para a camada gold e filtrando apenas transações com valor a ser pago\n",
    "final_gold_df = gold_payout_df.select(\n",
    "    f.col(\"user_id\"),\n",
    "    f.col(\"processing_date\").alias(\"payout_date\"),\n",
    "    f.col(\"balance_on_last_biz_day\").alias(\"eligible_balance\"),\n",
    "    f.col(\"last_business_day\"),\n",
    "    f.col(\"days_to_accrue\"),\n",
    "    f.lit(daily_rate).alias(\"applied_daily_rate\"),\n",
    "    f.col(\"interest_payout\")\n",
    ").filter(f.col(\"interest_payout\") > 0) # apenas transações com valor a ser pago\n",
    "\n",
    "print(\"tabela final de pagamentos (camada gold):\")"
   ]
  },
  {
   "cell_type": "code",
   "execution_count": 0,
   "metadata": {
    "application/vnd.databricks.v1+cell": {
     "cellMetadata": {
      "byteLimit": 2048000,
      "rowLimit": 10000
     },
     "inputWidgets": {},
     "nuid": "8a031cda-d369-4e86-97c8-b40d3ed9120e",
     "showTitle": false,
     "tableResultSettingsMap": {},
     "title": ""
    }
   },
   "outputs": [],
   "source": [
    "# Salvando a tabela final na camada gold.\n",
    "(\n",
    "    final_gold_df.write\n",
    "    .format(\"delta\")\n",
    "    .mode(\"overwrite\")\n",
    "    .option(\"replaceWhere\", f\"payout_date = '{processing_date_str}'\")\n",
    "    .partitionBy(\"payout_date\")\n",
    "    .saveAsTable(gold_payouts_table)\n",
    ")\n",
    "\n",
    "print(f\"tabela de pagamentos salva com sucesso em '{gold_payouts_table}' para a data {processing_date_str}.\")"
   ]
  }
 ],
 "metadata": {
  "application/vnd.databricks.v1+notebook": {
   "computePreferences": null,
   "dashboards": [],
   "environmentMetadata": {
    "base_environment": "",
    "environment_version": "2"
   },
   "inputWidgetPreferences": null,
   "language": "python",
   "notebookMetadata": {
    "pythonIndentUnit": 4
   },
   "notebookName": "ntb_ingest_gold",
   "widgets": {
    "processing_date": {
     "currentValue": "2025-08-16",
     "nuid": "a34fa783-0133-4071-9c6d-9369d663c6e3",
     "typedWidgetInfo": {
      "autoCreated": false,
      "defaultValue": "",
      "label": null,
      "name": "processing_date",
      "options": {
       "widgetDisplayType": "Text",
       "validationRegex": null
      },
      "parameterDataType": "String"
     },
     "widgetInfo": {
      "widgetType": "text",
      "defaultValue": "",
      "label": null,
      "name": "processing_date",
      "options": {
       "widgetType": "text",
       "autoCreated": null,
       "validationRegex": null
      }
     }
    }
   }
  },
  "language_info": {
   "name": "python"
  }
 },
 "nbformat": 4,
 "nbformat_minor": 0
}
